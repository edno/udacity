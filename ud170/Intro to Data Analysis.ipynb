{
 "cells": [
  {
   "cell_type": "markdown",
   "metadata": {},
   "source": [
    "# Intro to Data Analysis"
   ]
  },
  {
   "cell_type": "code",
   "execution_count": 8,
   "metadata": {
    "collapsed": true
   },
   "outputs": [],
   "source": [
    "import unicodecsv\n",
    "\n",
    "enrollments_filename = './resources/enrollments.csv'\n",
    "\n",
    "## Longer version of code (replaced with shorter, equivalent version below)\n",
    "\n",
    "# enrollments = []\n",
    "# f = open(enrollments_filename, 'rb')\n",
    "# reader = unicodecsv.DictReader(f)\n",
    "# for row in reader:\n",
    "#     enrollments.append(row)\n",
    "# f.close()\n",
    "\n",
    "with open(enrollments_filename, 'rb') as f:\n",
    "    reader = unicodecsv.DictReader(f)\n",
    "    enrollments = list(reader)\n",
    "    \n",
    "### Write code similar to the above to load the engagement\n",
    "### and submission data. The data is stored in files with\n",
    "### the given filenames. Then print the first row of each\n",
    "### table to make sure that your code works. You can use the\n",
    "### \"Test Run\" button to see the output of your code.\n",
    "\n",
    "engagement_filename = './resources/daily_engagement.csv'\n",
    "submissions_filename = './resources/project_submissions.csv'\n",
    "    \n",
    "with open(engagement_filename, 'rb') as f:\n",
    "    reader = unicodecsv.DictReader(f)\n",
    "    daily_engagement = list(reader)\n",
    "\n",
    "with open(submissions_filename, 'rb') as f:\n",
    "    reader = unicodecsv.DictReader(f)\n",
    "    project_submissions = list(reader)"
   ]
  },
  {
   "cell_type": "code",
   "execution_count": 62,
   "metadata": {
    "collapsed": true
   },
   "outputs": [],
   "source": [
    "def read_csv(filename):\n",
    "    with open(filename, 'rb') as f:\n",
    "        reader = unicodecsv.DictReader(f)\n",
    "        return list(reader)\n",
    "        \n",
    "def count_unique(values, key):\n",
    "    return len(set([rec[key] for rec in values]))\n",
    "\n",
    "enrollments = read_csv('./resources/enrollments.csv')\n",
    "daily_engagement = read_csv('./resources/daily_engagement.csv')\n",
    "project_submissions = read_csv('./resources/project_submissions.csv')\n",
    "    \n",
    "### For each of these three tables, find the number of rows in the table and\n",
    "### the number of unique students in the table. To find the number of unique\n",
    "### students, you might want to create a set of the account keys in each table.\n",
    "\n",
    "enrollment_num_rows = len(enrollments)\n",
    "enrollment_num_unique_students = count_unique(enrollments, 'account_key')\n",
    "\n",
    "engagement_num_rows = len(daily_engagement)\n",
    "engagement_num_unique_students = count_unique(daily_engagement, 'acct')\n",
    "\n",
    "submission_num_rows = len(project_submissions)\n",
    "submission_num_unique_students = count_unique(project_submissions, 'account_key')"
   ]
  },
  {
   "cell_type": "code",
   "execution_count": 63,
   "metadata": {
    "collapsed": true
   },
   "outputs": [],
   "source": [
    "from datetime import datetime\n",
    "\n",
    "def set_record_type(data, column, data_type):\n",
    "    for record in data:\n",
    "        if record[column]:\n",
    "            if data_type == 'float':\n",
    "                record[column] = float(record[column])\n",
    "            elif data_type == 'integer':\n",
    "                record[column] = int(float(record[column]))\n",
    "            elif data_type == 'date':\n",
    "                record[column] = datetime.strptime(record[column],'%Y-%m-%d')\n",
    "            elif data_type == 'boolean':\n",
    "                record[column] = True if record[column] == 'True' else False\n",
    "        else:\n",
    "            record[column] = None\n",
    "    return data\n",
    "\n",
    "enrollments = set_record_type(enrollments, 'join_date', 'date')\n",
    "enrollments = set_record_type(enrollments, 'cancel_date', 'date')\n",
    "enrollments = set_record_type(enrollments, 'days_to_cancel', 'integer')\n",
    "enrollments = set_record_type(enrollments, 'is_udacity', 'boolean')\n",
    "enrollments = set_record_type(enrollments, 'is_canceled', 'boolean')\n",
    "\n",
    "daily_engagement = set_record_type(daily_engagement, 'utc_date', 'date')\n",
    "daily_engagement = set_record_type(daily_engagement, 'num_courses_visited', 'integer')\n",
    "daily_engagement = set_record_type(daily_engagement, 'total_minutes_visited', 'float')\n",
    "daily_engagement = set_record_type(daily_engagement, 'lessons_completed', 'integer')\n",
    "daily_engagement = set_record_type(daily_engagement, 'projects_completed', 'integer')\n",
    "\n",
    "project_submissions = set_record_type(project_submissions, 'creation_date', 'date')\n",
    "project_submissions = set_record_type(project_submissions, 'completion_date', 'date')"
   ]
  },
  {
   "cell_type": "code",
   "execution_count": 12,
   "metadata": {},
   "outputs": [
    {
     "data": {
      "text/plain": [
       "1302"
      ]
     },
     "execution_count": 12,
     "metadata": {},
     "output_type": "execute_result"
    }
   ],
   "source": [
    "enrollment_num_unique_students"
   ]
  },
  {
   "cell_type": "code",
   "execution_count": 13,
   "metadata": {},
   "outputs": [
    {
     "data": {
      "text/plain": [
       "1237"
      ]
     },
     "execution_count": 13,
     "metadata": {},
     "output_type": "execute_result"
    }
   ],
   "source": [
    "engagement_num_unique_students"
   ]
  },
  {
   "cell_type": "code",
   "execution_count": 14,
   "metadata": {},
   "outputs": [
    {
     "data": {
      "text/plain": [
       "743"
      ]
     },
     "execution_count": 14,
     "metadata": {},
     "output_type": "execute_result"
    }
   ],
   "source": [
    "submission_num_unique_students"
   ]
  },
  {
   "cell_type": "code",
   "execution_count": 70,
   "metadata": {
    "collapsed": true
   },
   "outputs": [],
   "source": [
    "for rec in daily_engagement:\n",
    "    rec['account_key'] = rec['acct']\n",
    "    del[rec['acct']]"
   ]
  },
  {
   "cell_type": "code",
   "execution_count": 71,
   "metadata": {
    "collapsed": true
   },
   "outputs": [],
   "source": [
    "def get_unique_students(data):\n",
    "    return set([rec['account_key'] for rec in data])"
   ]
  },
  {
   "cell_type": "code",
   "execution_count": 72,
   "metadata": {
    "collapsed": true
   },
   "outputs": [],
   "source": [
    "enrollment_num_rows = len(enrollments)\n",
    "enrollment_unique_students = get_unique_students(enrollments)\n",
    "\n",
    "engagement_num_rows = len(daily_engagement)\n",
    "engagement_unique_students = get_unique_students(daily_engagement)\n",
    "\n",
    "submission_num_rows = len(project_submissions)\n",
    "submission_unique_students = get_unique_students(project_submissions)"
   ]
  },
  {
   "cell_type": "code",
   "execution_count": 73,
   "metadata": {},
   "outputs": [
    {
     "data": {
      "text/plain": [
       "{'account_key': '0',\n",
       " 'lessons_completed': 0,\n",
       " 'num_courses_visited': 1,\n",
       " 'projects_completed': 0,\n",
       " 'total_minutes_visited': 11.6793745,\n",
       " 'utc_date': datetime.datetime(2015, 1, 9, 0, 0)}"
      ]
     },
     "execution_count": 73,
     "metadata": {},
     "output_type": "execute_result"
    }
   ],
   "source": [
    "daily_engagement[0]"
   ]
  },
  {
   "cell_type": "code",
   "execution_count": 74,
   "metadata": {},
   "outputs": [
    {
     "name": "stdout",
     "output_type": "stream",
     "text": [
      "{'is_udacity': False, 'days_to_cancel': 0, 'account_key': '1219', 'join_date': datetime.datetime(2014, 11, 12, 0, 0), 'status': 'canceled', 'cancel_date': datetime.datetime(2014, 11, 12, 0, 0), 'is_canceled': True}\n"
     ]
    }
   ],
   "source": [
    "for enrollment in enrollments:\n",
    "    student = enrollment['account_key']\n",
    "    if student not in engagement_unique_students:\n",
    "        print(enrollment)\n",
    "        break"
   ]
  },
  {
   "cell_type": "code",
   "execution_count": 75,
   "metadata": {},
   "outputs": [
    {
     "name": "stdout",
     "output_type": "stream",
     "text": [
      "{'is_udacity': True, 'days_to_cancel': 59, 'account_key': '1304', 'join_date': datetime.datetime(2015, 1, 10, 0, 0), 'status': 'canceled', 'cancel_date': datetime.datetime(2015, 3, 10, 0, 0), 'is_canceled': True}\n",
      "{'is_udacity': True, 'days_to_cancel': 99, 'account_key': '1304', 'join_date': datetime.datetime(2015, 3, 10, 0, 0), 'status': 'canceled', 'cancel_date': datetime.datetime(2015, 6, 17, 0, 0), 'is_canceled': True}\n",
      "{'is_udacity': True, 'days_to_cancel': None, 'account_key': '1101', 'join_date': datetime.datetime(2015, 2, 25, 0, 0), 'status': 'current', 'cancel_date': None, 'is_canceled': False}\n"
     ]
    }
   ],
   "source": [
    "for enrollment in enrollments:\n",
    "    student = enrollment['account_key']\n",
    "    if student not in engagement_unique_students and enrollment['join_date'] != enrollment['cancel_date']:\n",
    "        print(enrollment)"
   ]
  },
  {
   "cell_type": "code",
   "execution_count": 76,
   "metadata": {},
   "outputs": [
    {
     "data": {
      "text/plain": [
       "6"
      ]
     },
     "execution_count": 76,
     "metadata": {},
     "output_type": "execute_result"
    }
   ],
   "source": [
    "udacity_test_accounts = set()\n",
    "for enrollment in enrollments:\n",
    "    if enrollment['is_udacity'] == True:\n",
    "        udacity_test_accounts.add(enrollment['account_key'])\n",
    "len(udacity_test_accounts)"
   ]
  },
  {
   "cell_type": "code",
   "execution_count": 77,
   "metadata": {
    "collapsed": true
   },
   "outputs": [],
   "source": [
    "def remove_udacity_account(data):\n",
    "    return [rec for rec in data if rec['account_key'] not in udacity_test_accounts]"
   ]
  },
  {
   "cell_type": "code",
   "execution_count": 102,
   "metadata": {},
   "outputs": [
    {
     "name": "stdout",
     "output_type": "stream",
     "text": [
      "1622\n",
      "135656\n",
      "3634\n"
     ]
    }
   ],
   "source": [
    "enrollments_non_udacity = remove_udacity_account(enrollments)\n",
    "engagement_non_udacity = remove_udacity_account(daily_engagement)\n",
    "submission_non_udacity = remove_udacity_account(project_submissions)\n",
    "\n",
    "print(len(enrollments_non_udacity))\n",
    "print(len(engagement_non_udacity))\n",
    "print(len(submission_non_udacity))"
   ]
  },
  {
   "cell_type": "code",
   "execution_count": 96,
   "metadata": {},
   "outputs": [
    {
     "data": {
      "text/plain": [
       "995"
      ]
     },
     "execution_count": 96,
     "metadata": {},
     "output_type": "execute_result"
    }
   ],
   "source": [
    "paid_students = {}\n",
    "for enrollment in enrollments_non_udacity:\n",
    "    if not enrollment['is_canceled'] or enrollment['days_to_cancel'] > 7:\n",
    "        student = enrollment['account_key']\n",
    "        join_date = enrollment['join_date']\n",
    "        if student not in paid_students or join_date > paid_students[student]:\n",
    "            paid_students[student] = join_date\n",
    "            \n",
    "len(paid_students)"
   ]
  },
  {
   "cell_type": "code",
   "execution_count": 97,
   "metadata": {
    "collapsed": true
   },
   "outputs": [],
   "source": [
    "def within_one_week(join_date, engagement_date):\n",
    "    time_delta = engagement_date - join_date\n",
    "    return time_delta.days < 7"
   ]
  },
  {
   "cell_type": "code",
   "execution_count": 99,
   "metadata": {},
   "outputs": [
    {
     "data": {
      "text/plain": [
       "21508"
      ]
     },
     "execution_count": 99,
     "metadata": {},
     "output_type": "execute_result"
    }
   ],
   "source": [
    "def remove_free_trial(data):\n",
    "    return [rec for rec in data if rec['account_key'] in paid_students]\n",
    "\n",
    "enrollments_paid = remove_free_trial(enrollments_non_udacity)\n",
    "engagement_paid = remove_free_trial(engagement_non_udacity)\n",
    "submission_paid = remove_free_trial(submission_non_udacity)\n",
    "\n",
    "paid_engagement_in_first_week = []\n",
    "for rec in engagement_paid:\n",
    "    student = rec['account_key']\n",
    "    if within_one_week(paid_students[student], rec['utc_date']):\n",
    "        paid_engagement_in_first_week.append(rec)\n",
    "        \n",
    "len(paid_engagement_in_first_week)"
   ]
  },
  {
   "cell_type": "code",
   "execution_count": 104,
   "metadata": {},
   "outputs": [
    {
     "data": {
      "text/plain": [
       "995"
      ]
     },
     "execution_count": 104,
     "metadata": {},
     "output_type": "execute_result"
    }
   ],
   "source": [
    "from collections import defaultdict\n",
    "\n",
    "engagement_by_account = defaultdict(list)\n",
    "for rec in paid_engagement_in_first_week:\n",
    "    account_key = rec['account_key']\n",
    "    engagement_by_account[account_key].append(rec)\n",
    "    \n",
    "len(engagement_by_account)"
   ]
  },
  {
   "cell_type": "code",
   "execution_count": 107,
   "metadata": {
    "collapsed": true
   },
   "outputs": [],
   "source": [
    "total_minutes_by_accounts = {}\n",
    "\n",
    "for account_key, engagement_for_student in engagement_by_account.items():\n",
    "    total_minutes = 0\n",
    "    for engagement_record in engagement_for_student:\n",
    "        total_minutes += engagement_record['total_minutes_visited']\n",
    "    total_minutes_by_accounts[account_key] = total_minutes"
   ]
  },
  {
   "cell_type": "code",
   "execution_count": 110,
   "metadata": {},
   "outputs": [
    {
     "name": "stdout",
     "output_type": "stream",
     "text": [
      "Mean: 647.590173826\n",
      "Standard deviation: 1129.27121042\n",
      "Minimum: 0.0\n",
      "Maximum: 10568.1008673\n"
     ]
    }
   ],
   "source": [
    "total_minutes = list(total_minutes_by_accounts.values())\n",
    "\n",
    "import numpy as np\n",
    "print('Mean:', np.mean(total_minutes))\n",
    "print('Standard deviation:', np.std(total_minutes))\n",
    "print('Minimum:', np.min(total_minutes))\n",
    "print('Maximum:', np.max(total_minutes))"
   ]
  },
  {
   "cell_type": "code",
   "execution_count": null,
   "metadata": {
    "collapsed": true
   },
   "outputs": [],
   "source": []
  }
 ],
 "metadata": {
  "anaconda-cloud": {},
  "kernelspec": {
   "display_name": "Python [conda env:nb35]",
   "language": "python",
   "name": "conda-env-nb35-py"
  },
  "language_info": {
   "codemirror_mode": {
    "name": "ipython",
    "version": 3
   },
   "file_extension": ".py",
   "mimetype": "text/x-python",
   "name": "python",
   "nbconvert_exporter": "python",
   "pygments_lexer": "ipython3",
   "version": "3.5.3"
  }
 },
 "nbformat": 4,
 "nbformat_minor": 2
}
