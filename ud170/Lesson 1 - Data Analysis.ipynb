{
 "cells": [
  {
   "cell_type": "markdown",
   "metadata": {},
   "source": [
    "# Intro to Data Analysis"
   ]
  },
  {
   "cell_type": "code",
   "execution_count": 4,
   "metadata": {
    "collapsed": true
   },
   "outputs": [],
   "source": [
    "import unicodecsv\n",
    "\n",
    "enrollments_filename = './resources/enrollments.csv'\n",
    "\n",
    "## Longer version of code (replaced with shorter, equivalent version below)\n",
    "\n",
    "# enrollments = []\n",
    "# f = open(enrollments_filename, 'rb')\n",
    "# reader = unicodecsv.DictReader(f)\n",
    "# for row in reader:\n",
    "#     enrollments.append(row)\n",
    "# f.close()\n",
    "\n",
    "with open(enrollments_filename, 'rb') as f:\n",
    "    reader = unicodecsv.DictReader(f)\n",
    "    enrollments = list(reader)\n",
    "    \n",
    "### Write code similar to the above to load the engagement\n",
    "### and submission data. The data is stored in files with\n",
    "### the given filenames. Then print the first row of each\n",
    "### table to make sure that your code works. You can use the\n",
    "### \"Test Run\" button to see the output of your code.\n",
    "\n",
    "engagement_filename = './resources/daily_engagement.csv'\n",
    "submissions_filename = './resources/project_submissions.csv'\n",
    "    \n",
    "with open(engagement_filename, 'rb') as f:\n",
    "    reader = unicodecsv.DictReader(f)\n",
    "    daily_engagement = list(reader)\n",
    "\n",
    "with open(submissions_filename, 'rb') as f:\n",
    "    reader = unicodecsv.DictReader(f)\n",
    "    project_submissions = list(reader)"
   ]
  },
  {
   "cell_type": "code",
   "execution_count": 5,
   "metadata": {
    "collapsed": true
   },
   "outputs": [],
   "source": [
    "def read_csv(filename):\n",
    "    with open(filename, 'rb') as f:\n",
    "        reader = unicodecsv.DictReader(f)\n",
    "        return list(reader)\n",
    "        \n",
    "def count_unique(values, key):\n",
    "    return len(set([rec[key] for rec in values]))\n",
    "\n",
    "enrollments = read_csv('./resources/enrollments.csv')\n",
    "daily_engagement = read_csv('./resources/daily_engagement.csv')\n",
    "project_submissions = read_csv('./resources/project_submissions.csv')\n",
    "    \n",
    "### For each of these three tables, find the number of rows in the table and\n",
    "### the number of unique students in the table. To find the number of unique\n",
    "### students, you might want to create a set of the account keys in each table.\n",
    "\n",
    "enrollment_num_rows = len(enrollments)\n",
    "enrollment_num_unique_students = count_unique(enrollments, 'account_key')\n",
    "\n",
    "engagement_num_rows = len(daily_engagement)\n",
    "engagement_num_unique_students = count_unique(daily_engagement, 'acct')\n",
    "\n",
    "submission_num_rows = len(project_submissions)\n",
    "submission_num_unique_students = count_unique(project_submissions, 'account_key')"
   ]
  },
  {
   "cell_type": "code",
   "execution_count": 6,
   "metadata": {
    "collapsed": true
   },
   "outputs": [],
   "source": [
    "from datetime import datetime\n",
    "\n",
    "def set_record_type(data, column, data_type):\n",
    "    for record in data:\n",
    "        if record[column]:\n",
    "            if data_type == 'float':\n",
    "                record[column] = float(record[column])\n",
    "            elif data_type == 'integer':\n",
    "                record[column] = int(float(record[column]))\n",
    "            elif data_type == 'date':\n",
    "                record[column] = datetime.strptime(record[column],'%Y-%m-%d')\n",
    "            elif data_type == 'boolean':\n",
    "                record[column] = True if record[column] == 'True' else False\n",
    "        else:\n",
    "            record[column] = None\n",
    "    return data\n",
    "\n",
    "enrollments = set_record_type(enrollments, 'join_date', 'date')\n",
    "enrollments = set_record_type(enrollments, 'cancel_date', 'date')\n",
    "enrollments = set_record_type(enrollments, 'days_to_cancel', 'integer')\n",
    "enrollments = set_record_type(enrollments, 'is_udacity', 'boolean')\n",
    "enrollments = set_record_type(enrollments, 'is_canceled', 'boolean')\n",
    "\n",
    "daily_engagement = set_record_type(daily_engagement, 'utc_date', 'date')\n",
    "daily_engagement = set_record_type(daily_engagement, 'num_courses_visited', 'integer')\n",
    "daily_engagement = set_record_type(daily_engagement, 'total_minutes_visited', 'float')\n",
    "daily_engagement = set_record_type(daily_engagement, 'lessons_completed', 'integer')\n",
    "daily_engagement = set_record_type(daily_engagement, 'projects_completed', 'integer')\n",
    "\n",
    "project_submissions = set_record_type(project_submissions, 'creation_date', 'date')\n",
    "project_submissions = set_record_type(project_submissions, 'completion_date', 'date')"
   ]
  },
  {
   "cell_type": "code",
   "execution_count": 12,
   "metadata": {},
   "outputs": [
    {
     "data": {
      "text/plain": [
       "1302"
      ]
     },
     "execution_count": 12,
     "metadata": {},
     "output_type": "execute_result"
    }
   ],
   "source": [
    "enrollment_num_unique_students"
   ]
  },
  {
   "cell_type": "code",
   "execution_count": 13,
   "metadata": {},
   "outputs": [
    {
     "data": {
      "text/plain": [
       "1237"
      ]
     },
     "execution_count": 13,
     "metadata": {},
     "output_type": "execute_result"
    }
   ],
   "source": [
    "engagement_num_unique_students"
   ]
  },
  {
   "cell_type": "code",
   "execution_count": 14,
   "metadata": {},
   "outputs": [
    {
     "data": {
      "text/plain": [
       "743"
      ]
     },
     "execution_count": 14,
     "metadata": {},
     "output_type": "execute_result"
    }
   ],
   "source": [
    "submission_num_unique_students"
   ]
  },
  {
   "cell_type": "code",
   "execution_count": 7,
   "metadata": {
    "collapsed": true
   },
   "outputs": [],
   "source": [
    "for rec in daily_engagement:\n",
    "    rec['account_key'] = rec['acct']\n",
    "    del[rec['acct']]"
   ]
  },
  {
   "cell_type": "code",
   "execution_count": 8,
   "metadata": {
    "collapsed": true
   },
   "outputs": [],
   "source": [
    "def get_unique_students(data):\n",
    "    return set([rec['account_key'] for rec in data])"
   ]
  },
  {
   "cell_type": "code",
   "execution_count": 9,
   "metadata": {
    "collapsed": true
   },
   "outputs": [],
   "source": [
    "enrollment_num_rows = len(enrollments)\n",
    "enrollment_unique_students = get_unique_students(enrollments)\n",
    "\n",
    "engagement_num_rows = len(daily_engagement)\n",
    "engagement_unique_students = get_unique_students(daily_engagement)\n",
    "\n",
    "submission_num_rows = len(project_submissions)\n",
    "submission_unique_students = get_unique_students(project_submissions)"
   ]
  },
  {
   "cell_type": "code",
   "execution_count": 10,
   "metadata": {},
   "outputs": [
    {
     "data": {
      "text/plain": [
       "{'account_key': '0',\n",
       " 'lessons_completed': 0,\n",
       " 'num_courses_visited': 1,\n",
       " 'projects_completed': 0,\n",
       " 'total_minutes_visited': 11.6793745,\n",
       " 'utc_date': datetime.datetime(2015, 1, 9, 0, 0)}"
      ]
     },
     "execution_count": 10,
     "metadata": {},
     "output_type": "execute_result"
    }
   ],
   "source": [
    "daily_engagement[0]"
   ]
  },
  {
   "cell_type": "code",
   "execution_count": 11,
   "metadata": {},
   "outputs": [
    {
     "name": "stdout",
     "output_type": "stream",
     "text": [
      "{'account_key': '1219', 'join_date': datetime.datetime(2014, 11, 12, 0, 0), 'days_to_cancel': 0, 'status': 'canceled', 'cancel_date': datetime.datetime(2014, 11, 12, 0, 0), 'is_canceled': True, 'is_udacity': False}\n"
     ]
    }
   ],
   "source": [
    "for enrollment in enrollments:\n",
    "    student = enrollment['account_key']\n",
    "    if student not in engagement_unique_students:\n",
    "        print(enrollment)\n",
    "        break"
   ]
  },
  {
   "cell_type": "code",
   "execution_count": 12,
   "metadata": {},
   "outputs": [
    {
     "name": "stdout",
     "output_type": "stream",
     "text": [
      "{'account_key': '1304', 'join_date': datetime.datetime(2015, 1, 10, 0, 0), 'days_to_cancel': 59, 'status': 'canceled', 'cancel_date': datetime.datetime(2015, 3, 10, 0, 0), 'is_canceled': True, 'is_udacity': True}\n",
      "{'account_key': '1304', 'join_date': datetime.datetime(2015, 3, 10, 0, 0), 'days_to_cancel': 99, 'status': 'canceled', 'cancel_date': datetime.datetime(2015, 6, 17, 0, 0), 'is_canceled': True, 'is_udacity': True}\n",
      "{'account_key': '1101', 'join_date': datetime.datetime(2015, 2, 25, 0, 0), 'days_to_cancel': None, 'status': 'current', 'cancel_date': None, 'is_canceled': False, 'is_udacity': True}\n"
     ]
    }
   ],
   "source": [
    "for enrollment in enrollments:\n",
    "    student = enrollment['account_key']\n",
    "    if student not in engagement_unique_students and enrollment['join_date'] != enrollment['cancel_date']:\n",
    "        print(enrollment)"
   ]
  },
  {
   "cell_type": "code",
   "execution_count": 13,
   "metadata": {},
   "outputs": [
    {
     "data": {
      "text/plain": [
       "6"
      ]
     },
     "execution_count": 13,
     "metadata": {},
     "output_type": "execute_result"
    }
   ],
   "source": [
    "udacity_test_accounts = set()\n",
    "for enrollment in enrollments:\n",
    "    if enrollment['is_udacity'] == True:\n",
    "        udacity_test_accounts.add(enrollment['account_key'])\n",
    "len(udacity_test_accounts)"
   ]
  },
  {
   "cell_type": "code",
   "execution_count": 14,
   "metadata": {
    "collapsed": true
   },
   "outputs": [],
   "source": [
    "def remove_udacity_account(data):\n",
    "    return [rec for rec in data if rec['account_key'] not in udacity_test_accounts]"
   ]
  },
  {
   "cell_type": "code",
   "execution_count": 15,
   "metadata": {},
   "outputs": [
    {
     "name": "stdout",
     "output_type": "stream",
     "text": [
      "1622\n",
      "135656\n",
      "3634\n"
     ]
    }
   ],
   "source": [
    "enrollments_non_udacity = remove_udacity_account(enrollments)\n",
    "engagement_non_udacity = remove_udacity_account(daily_engagement)\n",
    "submission_non_udacity = remove_udacity_account(project_submissions)\n",
    "\n",
    "print(len(enrollments_non_udacity))\n",
    "print(len(engagement_non_udacity))\n",
    "print(len(submission_non_udacity))"
   ]
  },
  {
   "cell_type": "code",
   "execution_count": 16,
   "metadata": {},
   "outputs": [
    {
     "data": {
      "text/plain": [
       "995"
      ]
     },
     "execution_count": 16,
     "metadata": {},
     "output_type": "execute_result"
    }
   ],
   "source": [
    "paid_students = {}\n",
    "for enrollment in enrollments_non_udacity:\n",
    "    if not enrollment['is_canceled'] or enrollment['days_to_cancel'] > 7:\n",
    "        student = enrollment['account_key']\n",
    "        join_date = enrollment['join_date']\n",
    "        if student not in paid_students or join_date > paid_students[student]:\n",
    "            paid_students[student] = join_date\n",
    "            \n",
    "len(paid_students)"
   ]
  },
  {
   "cell_type": "code",
   "execution_count": 24,
   "metadata": {
    "collapsed": true
   },
   "outputs": [],
   "source": [
    "def within_one_week(join_date, engagement_date):\n",
    "    time_delta = engagement_date - join_date\n",
    "    return time_delta.days < 7 and time_delta.days >= 0"
   ]
  },
  {
   "cell_type": "code",
   "execution_count": 25,
   "metadata": {},
   "outputs": [
    {
     "data": {
      "text/plain": [
       "6919"
      ]
     },
     "execution_count": 25,
     "metadata": {},
     "output_type": "execute_result"
    }
   ],
   "source": [
    "def remove_free_trial(data):\n",
    "    return [rec for rec in data if rec['account_key'] in paid_students]\n",
    "\n",
    "enrollments_paid = remove_free_trial(enrollments_non_udacity)\n",
    "engagement_paid = remove_free_trial(engagement_non_udacity)\n",
    "submission_paid = remove_free_trial(submission_non_udacity)\n",
    "\n",
    "paid_engagement_in_first_week = []\n",
    "for rec in engagement_paid:\n",
    "    student = rec['account_key']\n",
    "    if within_one_week(paid_students[student], rec['utc_date']):\n",
    "        paid_engagement_in_first_week.append(rec)\n",
    "        \n",
    "len(paid_engagement_in_first_week)"
   ]
  },
  {
   "cell_type": "code",
   "execution_count": 26,
   "metadata": {},
   "outputs": [
    {
     "data": {
      "text/plain": [
       "995"
      ]
     },
     "execution_count": 26,
     "metadata": {},
     "output_type": "execute_result"
    }
   ],
   "source": [
    "from collections import defaultdict\n",
    "\n",
    "engagement_by_account = defaultdict(list)\n",
    "for rec in paid_engagement_in_first_week:\n",
    "    account_key = rec['account_key']\n",
    "    engagement_by_account[account_key].append(rec)\n",
    "    \n",
    "len(engagement_by_account)"
   ]
  },
  {
   "cell_type": "code",
   "execution_count": 27,
   "metadata": {
    "collapsed": true
   },
   "outputs": [],
   "source": [
    "total_minutes_by_accounts = {}\n",
    "\n",
    "for account_key, engagement_for_student in engagement_by_account.items():\n",
    "    total_minutes = 0\n",
    "    for engagement_record in engagement_for_student:\n",
    "        total_minutes += engagement_record['total_minutes_visited']\n",
    "    total_minutes_by_accounts[account_key] = total_minutes"
   ]
  },
  {
   "cell_type": "code",
   "execution_count": 28,
   "metadata": {},
   "outputs": [
    {
     "name": "stdout",
     "output_type": "stream",
     "text": [
      "Mean: 306.708326753\n",
      "Standard deviation: 412.996933409\n",
      "Minimum: 0.0\n",
      "Maximum: 3564.7332645\n"
     ]
    }
   ],
   "source": [
    "total_minutes = list(total_minutes_by_accounts.values())\n",
    "\n",
    "import numpy as np\n",
    "print('Mean:', np.mean(total_minutes))\n",
    "print('Standard deviation:', np.std(total_minutes))\n",
    "print('Minimum:', np.min(total_minutes))\n",
    "print('Maximum:', np.max(total_minutes))"
   ]
  },
  {
   "cell_type": "code",
   "execution_count": 29,
   "metadata": {},
   "outputs": [
    {
     "name": "stdout",
     "output_type": "stream",
     "text": [
      "Mean: 306.708326753\n",
      "Standard deviation: 412.996933409\n",
      "Minimum: 0.0\n",
      "Maximum: 3564.7332645\n"
     ]
    }
   ],
   "source": [
    "def print_statistics(data):\n",
    "    data_list = list(data.values())\n",
    "    print('Mean:', np.mean(data_list))\n",
    "    print('Standard deviation:', np.std(data_list))\n",
    "    print('Minimum:', np.min(data_list))\n",
    "    print('Maximum:', np.max(data_list))\n",
    "\n",
    "print_statistics(total_minutes_by_accounts)"
   ]
  },
  {
   "cell_type": "code",
   "execution_count": 30,
   "metadata": {
    "collapsed": true
   },
   "outputs": [],
   "source": [
    "def group_data_by(data, key):\n",
    "    grouped_data = defaultdict(list)\n",
    "    for rec in data:\n",
    "        group_key = rec[key]\n",
    "        grouped_data[group_key].append(rec)\n",
    "    return grouped_data"
   ]
  },
  {
   "cell_type": "code",
   "execution_count": 34,
   "metadata": {
    "collapsed": true
   },
   "outputs": [],
   "source": [
    "def sum_grouped_items(data, entry):\n",
    "    sum_group = {}\n",
    "    for key,record in data.items():\n",
    "        total = 0\n",
    "        for rec in record:\n",
    "            total += rec[entry]\n",
    "        sum_group[key] = total\n",
    "    return sum_group"
   ]
  },
  {
   "cell_type": "code",
   "execution_count": 35,
   "metadata": {},
   "outputs": [
    {
     "name": "stdout",
     "output_type": "stream",
     "text": [
      "Mean: 306.708326753\n",
      "Standard deviation: 412.996933409\n",
      "Minimum: 0.0\n",
      "Maximum: 3564.7332645\n",
      "Mean: 1.63618090452\n",
      "Standard deviation: 3.00256129983\n",
      "Minimum: 0\n",
      "Maximum: 36\n"
     ]
    }
   ],
   "source": [
    "engagement_by_account = group_data_by(paid_engagement_in_first_week, 'account_key')\n",
    "\n",
    "total_minutes_by_accounts = sum_grouped_items(engagement_by_account,'total_minutes_visited')\n",
    "print_statistics(total_minutes_by_accounts)\n",
    "\n",
    "total_lessons_completed_by_accounts = sum_grouped_items(engagement_by_account,'lessons_completed')\n",
    "print_statistics(total_lessons_completed_by_accounts)"
   ]
  },
  {
   "cell_type": "code",
   "execution_count": 100,
   "metadata": {},
   "outputs": [
    {
     "name": "stdout",
     "output_type": "stream",
     "text": [
      "Mean: 2.86733668342\n",
      "Standard deviation: 2.25519800292\n",
      "Minimum: 0\n",
      "Maximum: 7\n"
     ]
    }
   ],
   "source": [
    "for rec in paid_engagement_in_first_week:\n",
    "    rec['has_visited'] = 1 if rec['num_courses_visited'] > 0 else 0\n",
    "\n",
    "total_num_courses_visited = sum_grouped_items(engagement_by_account,'has_visited')\n",
    "print_statistics(total_num_courses_visited)"
   ]
  },
  {
   "cell_type": "code",
   "execution_count": 52,
   "metadata": {
    "collapsed": true
   },
   "outputs": [],
   "source": [
    "subway_project_lesson_keys = ['746169184','3176718735']\n",
    "rating_pass_values = ['PASSED','DISTINCTION']"
   ]
  },
  {
   "cell_type": "code",
   "execution_count": 39,
   "metadata": {},
   "outputs": [
    {
     "data": {
      "text/plain": [
       "{'account_key': '256',\n",
       " 'assigned_rating': 'UNGRADED',\n",
       " 'completion_date': datetime.datetime(2015, 1, 16, 0, 0),\n",
       " 'creation_date': datetime.datetime(2015, 1, 14, 0, 0),\n",
       " 'lesson_key': '3176718735',\n",
       " 'processing_state': 'EVALUATED'}"
      ]
     },
     "execution_count": 39,
     "metadata": {},
     "output_type": "execute_result"
    }
   ],
   "source": [
    "submission_paid[0]"
   ]
  },
  {
   "cell_type": "code",
   "execution_count": 74,
   "metadata": {},
   "outputs": [
    {
     "data": {
      "text/plain": [
       "{'3165188753': 214,\n",
       " '3168208620': 373,\n",
       " '3174288624': 122,\n",
       " '3176718735': 652,\n",
       " '3184238632': 53,\n",
       " '3562208770': 0,\n",
       " '4110338963': 12,\n",
       " '4180859007': 4,\n",
       " '4576183932': 139,\n",
       " '4582204201': 85,\n",
       " '746169184': 0}"
      ]
     },
     "execution_count": 74,
     "metadata": {},
     "output_type": "execute_result"
    }
   ],
   "source": [
    "submission_by_lesson = group_data_by(submission_paid, 'lesson_key')\n",
    "for _,record in submission_by_lesson.items():\n",
    "    for rec in record:\n",
    "        rec['has_passed'] = 1 if rec['assigned_rating'] in rating_pass_values else 0\n",
    "        \n",
    "total_pass_by_lesson = sum_grouped_items(submission_by_lesson,'has_passed')\n",
    "total_pass_by_lesson"
   ]
  },
  {
   "cell_type": "code",
   "execution_count": 75,
   "metadata": {},
   "outputs": [
    {
     "data": {
      "text/plain": [
       "652"
      ]
     },
     "execution_count": 75,
     "metadata": {},
     "output_type": "execute_result"
    }
   ],
   "source": [
    "sum(value for key,value in total_pass_by_lesson.items() if key in subway_project_lesson_keys)"
   ]
  },
  {
   "cell_type": "code",
   "execution_count": 77,
   "metadata": {},
   "outputs": [
    {
     "name": "stdout",
     "output_type": "stream",
     "text": [
      "652\n",
      "845\n"
     ]
    }
   ],
   "source": [
    "passing_engagement = []\n",
    "non_passing_engagement = []\n",
    "for lesson,submissions in submission_by_lesson.items():\n",
    "    if lesson in subway_project_lesson_keys:\n",
    "        for submission in submissions:\n",
    "            if submission['has_passed']:\n",
    "                passing_engagement.append(rec)\n",
    "            else:\n",
    "                non_passing_engagement.append(rec)\n",
    "\n",
    "print(len(passing_engagement))\n",
    "print(len(non_passing_engagement))   "
   ]
  },
  {
   "cell_type": "code",
   "execution_count": 78,
   "metadata": {},
   "outputs": [
    {
     "name": "stdout",
     "output_type": "stream",
     "text": [
      "647\n"
     ]
    }
   ],
   "source": [
    "pass_subway_project = set()\n",
    "for rec in submission_paid:\n",
    "    if rec['lesson_key'] in subway_project_lesson_keys and rec['assigned_rating'] in rating_pass_values:\n",
    "        pass_subway_project.add(rec['account_key'])\n",
    "\n",
    "print(len(pass_subway_project))"
   ]
  },
  {
   "cell_type": "code",
   "execution_count": 80,
   "metadata": {},
   "outputs": [
    {
     "name": "stdout",
     "output_type": "stream",
     "text": [
      "4527\n",
      "2392\n"
     ]
    }
   ],
   "source": [
    "passing_engagement = []\n",
    "non_passing_engagement = []\n",
    "for rec in paid_engagement_in_first_week:\n",
    "    if rec['account_key'] in pass_subway_project:\n",
    "        passing_engagement.append(rec)\n",
    "    else:\n",
    "        non_passing_engagement.append(rec)\n",
    "\n",
    "print(len(passing_engagement))\n",
    "print(len(non_passing_engagement))"
   ]
  },
  {
   "cell_type": "code",
   "execution_count": 82,
   "metadata": {},
   "outputs": [
    {
     "name": "stdout",
     "output_type": "stream",
     "text": [
      "Mean: 394.586046484\n",
      "Standard deviation: 448.499519327\n",
      "Minimum: 0.0\n",
      "Maximum: 3564.7332645\n",
      "Mean: 143.326474267\n",
      "Standard deviation: 269.538619011\n",
      "Minimum: 0.0\n",
      "Maximum: 1768.52274933\n"
     ]
    }
   ],
   "source": [
    "passing_engagement_by_accounts = group_data_by(passing_engagement, 'account_key')\n",
    "non_passing_engagement_by_accounts = group_data_by(non_passing_engagement, 'account_key')\n",
    "passing_minutes = sum_grouped_items(passing_engagement_by_accounts,'total_minutes_visited')\n",
    "print_statistics(passing_minutes)\n",
    "non_passing_minutes = sum_grouped_items(non_passing_engagement_by_accounts,'total_minutes_visited')\n",
    "print_statistics(non_passing_minutes)"
   ]
  },
  {
   "cell_type": "code",
   "execution_count": 83,
   "metadata": {},
   "outputs": [
    {
     "name": "stdout",
     "output_type": "stream",
     "text": [
      "Mean: 2.05255023184\n",
      "Standard deviation: 3.14222705558\n",
      "Minimum: 0\n",
      "Maximum: 36\n",
      "Mean: 0.862068965517\n",
      "Standard deviation: 2.54915994183\n",
      "Minimum: 0\n",
      "Maximum: 27\n"
     ]
    }
   ],
   "source": [
    "passing_lessons_completed = sum_grouped_items(passing_engagement_by_accounts,'lessons_completed')\n",
    "print_statistics(passing_lessons_completed)\n",
    "non_passing_lessons_completed = sum_grouped_items(non_passing_engagement_by_accounts,'lessons_completed')\n",
    "print_statistics(non_passing_lessons_completed)"
   ]
  },
  {
   "cell_type": "code",
   "execution_count": 85,
   "metadata": {},
   "outputs": [
    {
     "data": {
      "text/plain": [
       "(array([ 3.,  0.,  0.,  2.,  0.,  0.,  2.,  0.,  0.,  1.]),\n",
       " array([ 1. ,  1.3,  1.6,  1.9,  2.2,  2.5,  2.8,  3.1,  3.4,  3.7,  4. ]),\n",
       " <a list of 10 Patch objects>)"
      ]
     },
     "execution_count": 85,
     "metadata": {},
     "output_type": "execute_result"
    },
    {
     "data": {
      "image/png": "[encoded data removed]",
      "text/plain": [
       "<matplotlib.figure.Figure at 0x7f3da6b9c0f0>"
      ]
     },
     "metadata": {},
     "output_type": "display_data"
    }
   ],
   "source": [
    "data = [1, 2, 1, 3, 3, 1, 4, 2]\n",
    "\n",
    "%matplotlib inline\n",
    "import matplotlib.pyplot as plt\n",
    "plt.hist(data)"
   ]
  },
  {
   "cell_type": "code",
   "execution_count": 94,
   "metadata": {
    "collapsed": true
   },
   "outputs": [],
   "source": [
    "def draw_hist(data):\n",
    "    data_list = list(data.values())\n",
    "    plt.hist(data_list)"
   ]
  },
  {
   "cell_type": "code",
   "execution_count": 97,
   "metadata": {},
   "outputs": [
    {
     "data": {
      "image/png": "[encoded data removed]",
      "text/plain": [
       "<matplotlib.figure.Figure at 0x7f3da6deb550>"
      ]
     },
     "metadata": {},
     "output_type": "display_data"
    }
   ],
   "source": [
    "draw_hist(passing_lessons_completed)\n",
    "draw_hist(non_passing_lessons_completed)"
   ]
  },
  {
   "cell_type": "code",
   "execution_count": 119,
   "metadata": {},
   "outputs": [
    {
     "data": {
      "image/png": "[encoded data removed]",
      "text/plain": [
       "<matplotlib.figure.Figure at 0x7f3da6dc1978>"
      ]
     },
     "metadata": {},
     "output_type": "display_data"
    }
   ],
   "source": [
    "draw_hist(passing_minutes)\n",
    "draw_hist(non_passing_minutes)"
   ]
  },
  {
   "cell_type": "code",
   "execution_count": 122,
   "metadata": {},
   "outputs": [
    {
     "name": "stdout",
     "output_type": "stream",
     "text": [
      "Mean: 3.38485316847\n",
      "Standard deviation: 2.25882147092\n",
      "Minimum: 0\n",
      "Maximum: 7\n",
      "Mean: 1.90517241379\n",
      "Standard deviation: 1.90573144136\n",
      "Minimum: 0\n",
      "Maximum: 7\n"
     ]
    },
    {
     "data": {
      "image/png": "[encoded data removed]",
      "text/plain": [
       "<matplotlib.figure.Figure at 0x7f3da7118320>"
      ]
     },
     "metadata": {},
     "output_type": "display_data"
    }
   ],
   "source": [
    "passing_days_visited = sum_grouped_items(passing_engagement_by_accounts,'has_visited')\n",
    "print_statistics(passing_days_visited)\n",
    "non_passing_days_visited = sum_grouped_items(non_passing_engagement_by_accounts,'has_visited')\n",
    "print_statistics(non_passing_days_visited)"
   ]
  },
  {
   "cell_type": "code",
   "execution_count": 120,
   "metadata": {
    "collapsed": true
   },
   "outputs": [],
   "source": [
    "import seaborn as sns\n",
    "import matplotlib.pyplot as plt\n",
    "\n",
    "import matplotlib\n",
    "matplotlib.rcParams['font.family'] = 'monospace'\n",
    "\n",
    "%matplotlib inline\n",
    "def print_statistics(data):\n",
    "    data_list = list(data.values())\n",
    "    print('Mean:', np.mean(data_list))\n",
    "    print('Standard deviation:', np.std(data_list))\n",
    "    print('Minimum:', np.min(data_list))\n",
    "    print('Maximum:', np.max(data_list))\n",
    "    plt.hist(data_list, bins=8)"
   ]
  }
 ],
 "metadata": {
  "anaconda-cloud": {},
  "kernelspec": {
   "display_name": "Python [conda env:nb35]",
   "language": "python",
   "name": "conda-env-nb35-py"
  },
  "language_info": {
   "codemirror_mode": {
    "name": "ipython",
    "version": 3
   },
   "file_extension": ".py",
   "mimetype": "text/x-python",
   "name": "python",
   "nbconvert_exporter": "python",
   "pygments_lexer": "ipython3",
   "version": "3.5.3"
  }
 },
 "nbformat": 4,
 "nbformat_minor": 2
}
